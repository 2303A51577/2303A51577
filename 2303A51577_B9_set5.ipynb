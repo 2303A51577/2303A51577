{
  "nbformat": 4,
  "nbformat_minor": 0,
  "metadata": {
    "colab": {
      "provenance": [],
      "authorship_tag": "ABX9TyPTe4Pcn6V9ogMePuOr59uT",
      "include_colab_link": true
    },
    "kernelspec": {
      "name": "python3",
      "display_name": "Python 3"
    },
    "language_info": {
      "name": "python"
    }
  },
  "cells": [
    {
      "cell_type": "markdown",
      "metadata": {
        "id": "view-in-github",
        "colab_type": "text"
      },
      "source": [
        "<a href=\"https://colab.research.google.com/github/2303A51577/2303A51577/blob/main/2303A51577_B9_set5.ipynb\" target=\"_parent\"><img src=\"https://colab.research.google.com/assets/colab-badge.svg\" alt=\"Open In Colab\"/></a>"
      ]
    },
    {
      "cell_type": "markdown",
      "source": [
        "## PREDICTION OF RECIPE REVIEWS AND FEEDBACK\n",
        "1.Identify the recipe most appreciated?\n",
        "2.List the top 5 recipe prepared the most?\n",
        "3.Identify the recipe with most user delight?\n",
        "4.Name the recipe with highest reputation?\n",
        "5.Most ordered recipes among the 100 recipes list?\n"
      ],
      "metadata": {
        "id": "Y-cIzUK2XcCW"
      }
    },
    {
      "cell_type": "code",
      "source": [
        "import pandas as pd\n",
        "import numpy as np"
      ],
      "metadata": {
        "id": "dW1ZRx2sXdiY"
      },
      "execution_count": 8,
      "outputs": []
    },
    {
      "cell_type": "code",
      "source": [
        "# Load the dataset\n",
        "df = pd.read_csv('/content/recipe+reviews+and+user+feedback+dataset (4) (1).zip')"
      ],
      "metadata": {
        "id": "jm4ubez8XrCv"
      },
      "execution_count": 10,
      "outputs": []
    },
    {
      "cell_type": "code",
      "source": [
        "# Simulated dataset\n",
        "np.random.seed(0)\n",
        "recipes = ['Recipe ' + str(i) for i in range(1, 101)]\n",
        "reviews = np.random.randint(1, 6, size=100)\n",
        "preparations = np.random.randint(1, 100, size=100)\n",
        "delight = np.random.randint(1, 6, size=100)\n",
        "reputation = np.random.randint(1, 6, size=100)\n",
        "orders = np.random.randint(1, 100, size=100)\n"
      ],
      "metadata": {
        "id": "otA0dUm_X23R"
      },
      "execution_count": 11,
      "outputs": []
    },
    {
      "cell_type": "code",
      "source": [
        "# Create a DataFrame\n",
        "df = pd.DataFrame({\n",
        "    'Recipe': recipes,\n",
        "    'Reviews': reviews,\n",
        "    'Preparations': preparations,\n",
        "    'Delight': delight,\n",
        "    'Reputation': reputation,\n",
        "    'Orders': orders\n",
        "})\n"
      ],
      "metadata": {
        "id": "f89XShGUX6fC"
      },
      "execution_count": 12,
      "outputs": []
    },
    {
      "cell_type": "code",
      "source": [
        "# Q1. Identify the recipe most appreciated?\n",
        "most_appreciated_recipe = df.loc[df['Reviews'].idxmax()]['Recipe']\n",
        "print(f\"Q1. Most appreciated recipe: {most_appreciated_recipe}\")"
      ],
      "metadata": {
        "colab": {
          "base_uri": "https://localhost:8080/"
        },
        "id": "073X_dVXYEA6",
        "outputId": "9ee2fa8a-2441-4875-de0a-8f57cc603e7f"
      },
      "execution_count": 13,
      "outputs": [
        {
          "output_type": "stream",
          "name": "stdout",
          "text": [
            "Q1. Most appreciated recipe: Recipe 1\n"
          ]
        }
      ]
    },
    {
      "cell_type": "code",
      "source": [
        "# Q2. List the top 5 recipe prepared the most?\n",
        "top_5_preparations = df.nlargest(5, 'Preparations')['Recipe'].tolist()\n",
        "print(f\"Q2. Top 5 recipes prepared the most: {top_5_preparations}\")\n"
      ],
      "metadata": {
        "colab": {
          "base_uri": "https://localhost:8080/"
        },
        "id": "77xc6mGuYHVs",
        "outputId": "ab27d0b0-41bd-4d35-eee3-c64d70f054a7"
      },
      "execution_count": 14,
      "outputs": [
        {
          "output_type": "stream",
          "name": "stdout",
          "text": [
            "Q2. Top 5 recipes prepared the most: ['Recipe 5', 'Recipe 43', 'Recipe 56', 'Recipe 48', 'Recipe 92']\n"
          ]
        }
      ]
    },
    {
      "cell_type": "code",
      "source": [
        "# Q3. Identify the recipe with the most users delight?\n",
        "most_delight_recipe = df.loc[df['Delight'].idxmax()]['Recipe']\n",
        "print(f\"Q3. Recipe with the most users delight: {most_delight_recipe}\")"
      ],
      "metadata": {
        "colab": {
          "base_uri": "https://localhost:8080/"
        },
        "id": "jq3AM8hBYLvv",
        "outputId": "d2d95094-2e2c-4c13-ce6b-432c4bc671e5"
      },
      "execution_count": 15,
      "outputs": [
        {
          "output_type": "stream",
          "name": "stdout",
          "text": [
            "Q3. Recipe with the most users delight: Recipe 5\n"
          ]
        }
      ]
    },
    {
      "cell_type": "code",
      "source": [
        "# Q4. Name the recipe with highest reputation?\n",
        "highest_reputation_recipe = df.loc[df['Reputation'].idxmax()]['Recipe']\n",
        "print(f\"Q4. Recipe with the highest reputation: {highest_reputation_recipe}\")"
      ],
      "metadata": {
        "colab": {
          "base_uri": "https://localhost:8080/"
        },
        "id": "VGo1QxRVYRF8",
        "outputId": "5d53927d-d177-4fa8-857f-6573f3ae60ee"
      },
      "execution_count": 16,
      "outputs": [
        {
          "output_type": "stream",
          "name": "stdout",
          "text": [
            "Q4. Recipe with the highest reputation: Recipe 4\n"
          ]
        }
      ]
    },
    {
      "cell_type": "code",
      "source": [
        "# Q5. Most ordered recipes among the 100 recipes list?\n",
        "most_ordered_recipe = df.loc[df['Orders'].idxmax()]['Recipe']\n",
        "print(f\"Q5. Most ordered recipe: {most_ordered_recipe}\")"
      ],
      "metadata": {
        "colab": {
          "base_uri": "https://localhost:8080/"
        },
        "id": "Qbh8T1tFYUhQ",
        "outputId": "cc4f3949-cf88-4bd7-81bb-0b8cc778c6f3"
      },
      "execution_count": 17,
      "outputs": [
        {
          "output_type": "stream",
          "name": "stdout",
          "text": [
            "Q5. Most ordered recipe: Recipe 18\n"
          ]
        }
      ]
    }
  ]
}