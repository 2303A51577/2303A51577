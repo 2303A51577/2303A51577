{
  "nbformat": 4,
  "nbformat_minor": 0,
  "metadata": {
    "colab": {
      "provenance": [],
      "authorship_tag": "ABX9TyMT/6X1ffL9v4H0J5NEoxyh",
      "include_colab_link": true
    },
    "kernelspec": {
      "name": "python3",
      "display_name": "Python 3"
    },
    "language_info": {
      "name": "python"
    }
  },
  "cells": [
    {
      "cell_type": "markdown",
      "metadata": {
        "id": "view-in-github",
        "colab_type": "text"
      },
      "source": [
        "<a href=\"https://colab.research.google.com/github/2303A51577/2303A51577/blob/main/lab2.ipynb\" target=\"_parent\"><img src=\"https://colab.research.google.com/assets/colab-badge.svg\" alt=\"Open In Colab\"/></a>"
      ]
    },
    {
      "cell_type": "code",
      "source": [
        "import numpy as np\n",
        "from queue import Queue\n",
        "graph={0:[1,2,3],1:[0,2],2:[0,1,3,5],3:[0,2,4],4:[3,5,7],5:[4,6,7],6:[5,7],7:[4,5,6],8:[]}\n",
        "print(\"The adjacency List representing the graph is:\")\n",
        "print(graph)\n",
        "def bfs(graph,source):\n",
        "  Q=Queue()\n",
        "  visited_vertices=set()\n",
        "  Q.put(source)\n",
        "  visited_vertices.update({source})\n",
        "  while not Q.empty():\n",
        "    vertex=Q.get()\n",
        "    print(vertex,end=\"-->\")\n",
        "    for u in graph[vertex]:\n",
        "       if u not in visited_vertices:\n",
        "          Q.put(u)\n",
        "          visited_vertices.update({u})\n",
        "print(\"BFS traversal of graph with source 0is:\")\n",
        "bfs(graph,0)"
      ],
      "metadata": {
        "colab": {
          "base_uri": "https://localhost:8080/"
        },
        "id": "YcLZm74mvLNW",
        "outputId": "261045bd-58ef-4f67-bab3-18e710abb4ca"
      },
      "execution_count": 2,
      "outputs": [
        {
          "output_type": "stream",
          "name": "stdout",
          "text": [
            "The adjacency List representing the graph is:\n",
            "{0: [1, 2, 3], 1: [0, 2], 2: [0, 1, 3, 5], 3: [0, 2, 4], 4: [3, 5, 7], 5: [4, 6, 7], 6: [5, 7], 7: [4, 5, 6], 8: []}\n",
            "BFS traversal of graph with source 0is:\n",
            "0-->1-->2-->3-->5-->4-->6-->7-->"
          ]
        }
      ]
    },
    {
      "cell_type": "code",
      "source": [
        "\n",
        "graph1={\n",
        "        'A':['C','D','G'],\n",
        "        'B':['A'],\n",
        "        'C':['A','D','F'],\n",
        "        'D':['A','C','E','G','H'],\n",
        "        'E':['D','F','H'],\n",
        "        'F':['C','E'],\n",
        "        'G':['A','D','H'],\n",
        "        'H':['D','E','G'],\n",
        "\n",
        "\n",
        "}\n",
        "\n",
        "print(\"The adjacency List representing the graph is:\")\n",
        "print(graph1)\n",
        "def dfs(graph,node,visited):\n",
        "  if node not in visited:\n",
        "     visited.append(node)\n",
        "     for k in graph[node]:\n",
        "       dfs(graph,k,visited)\n",
        "     return visited\n",
        "     visited=dfs(graph1,'B',[])\n",
        "     print(visited)\n"
      ],
      "metadata": {
        "colab": {
          "base_uri": "https://localhost:8080/"
        },
        "id": "weoMq4j7v5sq",
        "outputId": "53ca37f6-289e-49a4-819f-4290b086b52b"
      },
      "execution_count": 7,
      "outputs": [
        {
          "output_type": "stream",
          "name": "stdout",
          "text": [
            "The adjacency List representing the graph is:\n",
            "{'A': ['C', 'D', 'G'], 'B': ['A'], 'C': ['A', 'D', 'F'], 'D': ['A', 'C', 'E', 'G', 'H'], 'E': ['D', 'F', 'H'], 'F': ['C', 'E'], 'G': ['A', 'D', 'H'], 'H': ['D', 'E', 'G']}\n"
          ]
        }
      ]
    },
    {
      "cell_type": "code",
      "source": [
        "import numpy as np\n",
        "import heapq\n",
        "\n",
        "def manhattan_distance(state, goal):\n",
        "    distance = 0\n",
        "    for x in range(1, 9):  # Loop over all tiles except the empty one (represented by 0)\n",
        "                i, j = np.where(state == x)\n",
        "                goal_i, goal_j = np.where(goal == x)\n",
        "                distance += abs(i - goal_i) + abs(j - goal_j)\n",
        "                return distance\n",
        "\n",
        "def get_possible_moves(state):\n",
        "                 moves = []\n",
        "                 i, j = np.where(state == 0)  # Find the empty space\n",
        "                 i, j = i[0], j[0]\n",
        "                 directions = [(i-1, j), (i+1, j), (i, j-1), (i, j+1)]\n",
        "\n",
        "                 for d in directions:\n",
        "                    if 0 <= d[0] < 3 and 0 <= d[1] < 3:  # Check if the move is within bounds\n",
        "                       new_state = state.copy()\n",
        "                       new_state[i, j], new_state[d[0], d[1]] = new_state[d[0], d[1]], new_state[i, j]\n",
        "                       moves.append(new_state)\n",
        "\n",
        "                    return moves\n",
        "\n",
        "def a_star_search(initial_state, goal_state):\n",
        "                   open_list = []\n",
        "                   g_score = {str(initial_state): 0}\n",
        "                   heapq.heappush(open_list, (manhattan_distance(initial_state, goal_state), initial_state))\n",
        "\n",
        "                   while open_list:\n",
        "                        _, current_state = heapq.heappop(open_list)\n",
        "\n",
        "                   if np.array_equal(current_state, goal_state):\n",
        "                      return current_state, g_score[str(current_state)]\n",
        "\n",
        "                      possible_moves = get_possible_moves(current_state)\n",
        "\n",
        "                   for move in possible_moves:\n",
        "                          tentative_g_score = g_score[str(current_state)] + 1\n",
        "                              move_str = str(move)\n",
        "\n",
        "                                   if move_str not in g_score or tentative_g_score < g_score[move_str]:\n",
        "                                    g_score[move_str] = tentative_g_score\n",
        "                                    f_score = tentative_g_score + manhattan_distance(move, goal_state)\n",
        "                                    heapq.heappush(open_list, (f_score, move))\n",
        "\n",
        "                                   return None, None  # If no solution is found\n",
        "\n",
        "                                    # Define the initial and final states\n",
        "                                    initial_state = np.array([[1, 2, 3],\n",
        "                                                                  [7,0,6],\n",
        "                                                                      [5,4,8]])\n",
        "                                    final_state = np.array([[1,2,3],\n",
        "                                                     [4,5,6]\n",
        "                                                     [7,8,0]])\n",
        "\n",
        "                                     # Run the A* algorithm solutiobn,cost=a_star_search(initial_state,final_state)\n",
        "                                       if solution is not None:\n",
        "                                        print(\"Solution found with cost:\" ,cost)\n",
        "                                        print(\"Final state reached:\\n,solution\")\n",
        "                                       else:\n",
        "                                        print(\"'No Solution found\")\n",
        "\n",
        "\n",
        "                                                                                                                                                                                                                                                                                                                                                                                                              [7, 0, 6],\n",
        "                                                                                                                                                                                                                                                                                                                                                                                                                                                                                                                                                                                                                                                                                                  # Define the initial and final states\n",
        "\n",
        "\n",
        "                                                                                                                                                                                                           [5, 4, 8]])\n",
        "\n",
        "                                                                                                                                                                                                                                                                       final_state = np.array([[1, 2, 3],\n",
        "                                                                                                                                                                                                                                                                                                    [4, 5, 6],\n",
        "                                                                                                                                                                                                                                                                                                    [7, 8, 0]])\n",
        "\n",
        "                                                                                                                                                                                                                                                                                    # Run the A* algorithm\n",
        "                                                                                                                                                                                                                                                                                        solution, cost = a_star_search(initial_state, final_state)\n",
        "\n",
        "                                                                                                                                                                                                                                                                                                           if solution is not None:\n",
        "                                                                                                                                                                                                                                                                                                      print(\"Solution found with cost:\", cost)\n",
        "                                                                                                                                                                                                                                                                         print(\"Final state reached:\\n\", solution)\n",
        "                                                                                                                                                                                                                                                                                         else:\n",
        "                                                                                                                                                              print(\"No solution found\")"
      ],
      "metadata": {
        "colab": {
          "base_uri": "https://localhost:8080/",
          "height": 106
        },
        "id": "TYqPKIZPwy0Z",
        "outputId": "e82ed605-3d7a-448a-8ede-bf35c8f6ed38"
      },
      "execution_count": 19,
      "outputs": [
        {
          "output_type": "error",
          "ename": "IndentationError",
          "evalue": "unindent does not match any outer indentation level (<tokenize>, line 70)",
          "traceback": [
            "\u001b[0;36m  File \u001b[0;32m\"<tokenize>\"\u001b[0;36m, line \u001b[0;32m70\u001b[0m\n\u001b[0;31m    [5, 4, 8]])\u001b[0m\n\u001b[0m    ^\u001b[0m\n\u001b[0;31mIndentationError\u001b[0m\u001b[0;31m:\u001b[0m unindent does not match any outer indentation level\n"
          ]
        }
      ]
    }
  ]
}